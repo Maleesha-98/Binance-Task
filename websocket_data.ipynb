{
 "cells": [
  {
   "cell_type": "code",
   "execution_count": 1,
   "id": "22b67eb3-d4e1-46ce-af7a-4e2467f9e7a9",
   "metadata": {},
   "outputs": [
    {
     "name": "stdout",
     "output_type": "stream",
     "text": [
      "Requirement already satisfied: websocket-client in e:\\applications\\py\\lib\\site-packages (1.8.0)Note: you may need to restart the kernel to use updated packages.\n",
      "\n"
     ]
    }
   ],
   "source": [
    "pip install websocket-client"
   ]
  },
  {
   "cell_type": "code",
   "execution_count": 2,
   "id": "9159af01-2ac6-426f-a321-cc210b10ae4f",
   "metadata": {},
   "outputs": [],
   "source": [
    "import websocket \n",
    "import json\n",
    "import os\n",
    "import pandas as pd\n",
    "from datetime import datetime"
   ]
  },
  {
   "cell_type": "code",
   "execution_count": 3,
   "id": "a2322510-afe7-463c-8eaf-9da05661c344",
   "metadata": {},
   "outputs": [],
   "source": [
    "socket = 'wss://stream.binance.com:9443/ws/btcusdt@kline_1m'"
   ]
  },
  {
   "cell_type": "code",
   "execution_count": 4,
   "id": "c63c0614-c3bf-4c81-825a-d2d2e6ae4668",
   "metadata": {},
   "outputs": [],
   "source": [
    "output_file = 'binance_data.csv'"
   ]
  },
  {
   "cell_type": "code",
   "execution_count": 5,
   "id": "78671f50-3004-4246-8f97-c966f33a4379",
   "metadata": {},
   "outputs": [],
   "source": [
    "def on_message(ws, message):\n",
    "    data = json.loads(message)\n",
    "    kline = data['k']  \n",
    "    \n",
    "    print(f\"Received data for interval: {kline['i']} | Current time: {datetime.now()}\")\n",
    "\n",
    "    if kline['x']:\n",
    "        row = [\n",
    "            datetime.fromtimestamp(kline['t'] / 1000).strftime('%Y-%m-%d %H:%M:%S'),\n",
    "            kline['o'], \n",
    "            kline['h'], \n",
    "            kline['l'],\n",
    "            kline['c'], \n",
    "            kline['v']\n",
    "        ]\n",
    "\n",
    "        with open(output_file, \"a\") as f:\n",
    "            f.write(\",\".join(row) + \"\\n\")\n",
    "        print(f\"Data saved: {row}\")\n",
    "    \n",
    "def on_close(ws, close_status_code, close_msg):\n",
    "    print(\"### closed ###\")\n",
    "\n",
    "ws = websocket.WebSocketApp(socket, on_message=on_message,on_close=on_close)"
   ]
  },
  {
   "cell_type": "code",
   "execution_count": 6,
   "id": "cc0e8ab3-390b-492d-905c-c167451a9f65",
   "metadata": {},
   "outputs": [
    {
     "name": "stdout",
     "output_type": "stream",
     "text": [
      "Received data for interval: 1m | Current time: 2024-11-28 01:10:35.335845\n",
      "Received data for interval: 1m | Current time: 2024-11-28 01:10:37.411453\n",
      "Received data for interval: 1m | Current time: 2024-11-28 01:10:39.463574\n",
      "Received data for interval: 1m | Current time: 2024-11-28 01:10:41.628900\n",
      "Received data for interval: 1m | Current time: 2024-11-28 01:10:43.590292\n",
      "Received data for interval: 1m | Current time: 2024-11-28 01:10:46.220514\n",
      "Received data for interval: 1m | Current time: 2024-11-28 01:10:48.400673\n",
      "Received data for interval: 1m | Current time: 2024-11-28 01:10:50.534768\n",
      "Received data for interval: 1m | Current time: 2024-11-28 01:10:52.801556\n",
      "Received data for interval: 1m | Current time: 2024-11-28 01:10:55.029750\n",
      "Received data for interval: 1m | Current time: 2024-11-28 01:10:57.605635\n",
      "### closed ###\n"
     ]
    },
    {
     "data": {
      "text/plain": [
       "True"
      ]
     },
     "execution_count": 6,
     "metadata": {},
     "output_type": "execute_result"
    }
   ],
   "source": [
    "ws.run_forever()"
   ]
  },
  {
   "cell_type": "code",
   "execution_count": null,
   "id": "175a7394-5a1c-4005-8047-ba471c2e3498",
   "metadata": {},
   "outputs": [],
   "source": []
  },
  {
   "cell_type": "code",
   "execution_count": null,
   "id": "e742c6e2-75fe-4a4d-a8cc-627edf07b619",
   "metadata": {},
   "outputs": [],
   "source": []
  },
  {
   "cell_type": "code",
   "execution_count": null,
   "id": "e0c41a2b-baab-4d03-b970-86ada1058b16",
   "metadata": {},
   "outputs": [],
   "source": []
  },
  {
   "cell_type": "code",
   "execution_count": null,
   "id": "8b16d881-eeee-4708-9fa6-1205dfe3ea25",
   "metadata": {},
   "outputs": [],
   "source": []
  },
  {
   "cell_type": "code",
   "execution_count": null,
   "id": "fe4c3aab-3dbc-4305-937f-8234cab18d2a",
   "metadata": {},
   "outputs": [],
   "source": []
  },
  {
   "cell_type": "code",
   "execution_count": null,
   "id": "1da2639f-6641-4003-9aa9-6383babfe4d4",
   "metadata": {},
   "outputs": [],
   "source": []
  },
  {
   "cell_type": "code",
   "execution_count": null,
   "id": "05626f56-0260-4e5a-958a-34a4d29e1e89",
   "metadata": {},
   "outputs": [],
   "source": []
  },
  {
   "cell_type": "code",
   "execution_count": null,
   "id": "4d4c90da-dc26-4ca3-871c-773318af5dc4",
   "metadata": {},
   "outputs": [],
   "source": []
  },
  {
   "cell_type": "code",
   "execution_count": null,
   "id": "5682f081-4082-429d-9d20-a40da0920fcc",
   "metadata": {},
   "outputs": [],
   "source": []
  },
  {
   "cell_type": "code",
   "execution_count": null,
   "id": "c9e5476a-173a-4b73-8630-6d9f5646e780",
   "metadata": {},
   "outputs": [],
   "source": []
  }
 ],
 "metadata": {
  "kernelspec": {
   "display_name": "Python 3 (ipykernel)",
   "language": "python",
   "name": "python3"
  },
  "language_info": {
   "codemirror_mode": {
    "name": "ipython",
    "version": 3
   },
   "file_extension": ".py",
   "mimetype": "text/x-python",
   "name": "python",
   "nbconvert_exporter": "python",
   "pygments_lexer": "ipython3",
   "version": "3.10.10"
  }
 },
 "nbformat": 4,
 "nbformat_minor": 5
}
