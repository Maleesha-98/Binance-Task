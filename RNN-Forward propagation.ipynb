{
 "cells": [
  {
   "cell_type": "code",
   "execution_count": 1,
   "id": "ca043793-9bef-4b32-a600-1c69faf149ad",
   "metadata": {},
   "outputs": [],
   "source": [
    "import pandas as pd\n",
    "import numpy as np\n",
    "from sklearn.preprocessing import MinMaxScaler\n",
    "from sklearn.model_selection import train_test_split"
   ]
  },
  {
   "cell_type": "code",
   "execution_count": 2,
   "id": "3c19a220-456f-4a7f-9b04-8d36e8d248f2",
   "metadata": {},
   "outputs": [
    {
     "data": {
      "text/html": [
       "<div>\n",
       "<style scoped>\n",
       "    .dataframe tbody tr th:only-of-type {\n",
       "        vertical-align: middle;\n",
       "    }\n",
       "\n",
       "    .dataframe tbody tr th {\n",
       "        vertical-align: top;\n",
       "    }\n",
       "\n",
       "    .dataframe thead th {\n",
       "        text-align: right;\n",
       "    }\n",
       "</style>\n",
       "<table border=\"1\" class=\"dataframe\">\n",
       "  <thead>\n",
       "    <tr style=\"text-align: right;\">\n",
       "      <th></th>\n",
       "      <th>timestamp</th>\n",
       "      <th>open</th>\n",
       "      <th>high</th>\n",
       "      <th>low</th>\n",
       "      <th>close</th>\n",
       "      <th>volume</th>\n",
       "    </tr>\n",
       "  </thead>\n",
       "  <tbody>\n",
       "    <tr>\n",
       "      <th>0</th>\n",
       "      <td>2024-11-25 18:23:00</td>\n",
       "      <td>97930.13</td>\n",
       "      <td>97982.54</td>\n",
       "      <td>97928.20</td>\n",
       "      <td>97982.53</td>\n",
       "      <td>18.27246</td>\n",
       "    </tr>\n",
       "    <tr>\n",
       "      <th>1</th>\n",
       "      <td>2024-11-25 18:24:00</td>\n",
       "      <td>97982.54</td>\n",
       "      <td>97999.98</td>\n",
       "      <td>97944.00</td>\n",
       "      <td>97949.99</td>\n",
       "      <td>9.10211</td>\n",
       "    </tr>\n",
       "    <tr>\n",
       "      <th>2</th>\n",
       "      <td>2024-11-25 18:25:00</td>\n",
       "      <td>97949.99</td>\n",
       "      <td>97984.25</td>\n",
       "      <td>97949.99</td>\n",
       "      <td>97984.24</td>\n",
       "      <td>10.24976</td>\n",
       "    </tr>\n",
       "    <tr>\n",
       "      <th>3</th>\n",
       "      <td>2024-11-25 18:26:00</td>\n",
       "      <td>97984.24</td>\n",
       "      <td>97984.25</td>\n",
       "      <td>97942.00</td>\n",
       "      <td>97942.00</td>\n",
       "      <td>9.39547</td>\n",
       "    </tr>\n",
       "    <tr>\n",
       "      <th>4</th>\n",
       "      <td>2024-11-25 18:27:00</td>\n",
       "      <td>97942.01</td>\n",
       "      <td>97967.99</td>\n",
       "      <td>97892.06</td>\n",
       "      <td>97892.06</td>\n",
       "      <td>21.62757</td>\n",
       "    </tr>\n",
       "    <tr>\n",
       "      <th>...</th>\n",
       "      <td>...</td>\n",
       "      <td>...</td>\n",
       "      <td>...</td>\n",
       "      <td>...</td>\n",
       "      <td>...</td>\n",
       "      <td>...</td>\n",
       "    </tr>\n",
       "    <tr>\n",
       "      <th>414</th>\n",
       "      <td>2024-11-26 01:19:00</td>\n",
       "      <td>94800.00</td>\n",
       "      <td>94872.02</td>\n",
       "      <td>94768.00</td>\n",
       "      <td>94808.02</td>\n",
       "      <td>36.25977</td>\n",
       "    </tr>\n",
       "    <tr>\n",
       "      <th>415</th>\n",
       "      <td>2024-11-26 01:20:00</td>\n",
       "      <td>94808.02</td>\n",
       "      <td>94866.89</td>\n",
       "      <td>94736.00</td>\n",
       "      <td>94816.98</td>\n",
       "      <td>56.18272</td>\n",
       "    </tr>\n",
       "    <tr>\n",
       "      <th>416</th>\n",
       "      <td>2024-11-26 01:21:00</td>\n",
       "      <td>94816.98</td>\n",
       "      <td>94914.61</td>\n",
       "      <td>94800.00</td>\n",
       "      <td>94914.61</td>\n",
       "      <td>50.36162</td>\n",
       "    </tr>\n",
       "    <tr>\n",
       "      <th>417</th>\n",
       "      <td>2024-11-26 01:22:00</td>\n",
       "      <td>94914.61</td>\n",
       "      <td>94971.83</td>\n",
       "      <td>94824.00</td>\n",
       "      <td>94863.49</td>\n",
       "      <td>42.76734</td>\n",
       "    </tr>\n",
       "    <tr>\n",
       "      <th>418</th>\n",
       "      <td>2024-11-26 01:23:00</td>\n",
       "      <td>94863.49</td>\n",
       "      <td>94888.01</td>\n",
       "      <td>94800.00</td>\n",
       "      <td>94800.00</td>\n",
       "      <td>23.12419</td>\n",
       "    </tr>\n",
       "  </tbody>\n",
       "</table>\n",
       "<p>419 rows × 6 columns</p>\n",
       "</div>"
      ],
      "text/plain": [
       "              timestamp      open      high       low     close    volume\n",
       "0   2024-11-25 18:23:00  97930.13  97982.54  97928.20  97982.53  18.27246\n",
       "1   2024-11-25 18:24:00  97982.54  97999.98  97944.00  97949.99   9.10211\n",
       "2   2024-11-25 18:25:00  97949.99  97984.25  97949.99  97984.24  10.24976\n",
       "3   2024-11-25 18:26:00  97984.24  97984.25  97942.00  97942.00   9.39547\n",
       "4   2024-11-25 18:27:00  97942.01  97967.99  97892.06  97892.06  21.62757\n",
       "..                  ...       ...       ...       ...       ...       ...\n",
       "414 2024-11-26 01:19:00  94800.00  94872.02  94768.00  94808.02  36.25977\n",
       "415 2024-11-26 01:20:00  94808.02  94866.89  94736.00  94816.98  56.18272\n",
       "416 2024-11-26 01:21:00  94816.98  94914.61  94800.00  94914.61  50.36162\n",
       "417 2024-11-26 01:22:00  94914.61  94971.83  94824.00  94863.49  42.76734\n",
       "418 2024-11-26 01:23:00  94863.49  94888.01  94800.00  94800.00  23.12419\n",
       "\n",
       "[419 rows x 6 columns]"
      ]
     },
     "execution_count": 2,
     "metadata": {},
     "output_type": "execute_result"
    }
   ],
   "source": [
    "data = pd.read_csv('binance_data.csv',header=None)\n",
    "columns = ['timestamp','open','high','low','close','volume']\n",
    "data.columns = columns\n",
    "data[\"timestamp\"] = pd.to_datetime(data[\"timestamp\"])\n",
    "#data=data.drop(['timestamp'],axis = 1 )\n",
    "data"
   ]
  },
  {
   "cell_type": "code",
   "execution_count": 3,
   "id": "6c6a7d30-b573-4cc3-b9b7-3b064137fe9f",
   "metadata": {},
   "outputs": [],
   "source": [
    "X_raw = data[['open', 'high', 'low', 'volume']].values\n",
    "y_raw = data[['close']].values"
   ]
  },
  {
   "cell_type": "code",
   "execution_count": 4,
   "id": "60331eda-7bc0-4d24-a5b4-06ea5e7d4d2e",
   "metadata": {},
   "outputs": [],
   "source": [
    "scaler_X = MinMaxScaler()\n",
    "scaler_y = MinMaxScaler() \n",
    "\n",
    "X = scaler_X.fit_transform(X_raw)\n",
    "y = scaler_y.fit_transform(y_raw.reshape(-1, 1))"
   ]
  },
  {
   "cell_type": "code",
   "execution_count": 5,
   "id": "e53a65bd-91b3-4b93-bd69-6e0fc825f51c",
   "metadata": {},
   "outputs": [],
   "source": [
    "def create_sequences(X, y, seq_length):\n",
    "    X_seq, y_seq = [], []\n",
    "    for i in range(len(X) - seq_length):\n",
    "        X_seq.append(X[i:i+seq_length])\n",
    "        y_seq.append(y[i+seq_length])\n",
    "    return np.array(X_seq), np.array(y_seq)"
   ]
  },
  {
   "cell_type": "code",
   "execution_count": 6,
   "id": "2731b39f-a304-4246-8273-49fc19b60947",
   "metadata": {},
   "outputs": [],
   "source": [
    "seq_length = 10  # Use 10 time steps for each sequence\n",
    "X_seq, y_seq = create_sequences(X, y, seq_length)"
   ]
  },
  {
   "cell_type": "code",
   "execution_count": 7,
   "id": "e1db54e6-97d2-481e-9061-fa687d7c35f9",
   "metadata": {},
   "outputs": [
    {
     "data": {
      "text/plain": [
       "array([[0.99951413, 1.        , 0.99831267, 0.00701744],\n",
       "       [0.99021107, 0.99532548, 1.        , 0.0100518 ],\n",
       "       [1.        , 0.99532548, 0.99774929, 0.00779308],\n",
       "       [0.98793032, 0.99049345, 0.98368164, 0.0401344 ],\n",
       "       [0.9736542 , 0.98118304, 0.98368164, 0.01787383],\n",
       "       [0.97592638, 0.97911472, 0.97465063, 0.02504029],\n",
       "       [0.96651471, 0.966369  , 0.97126471, 0.05423671],\n",
       "       [0.96798091, 0.96999153, 0.9733295 , 0.00669015],\n",
       "       [0.97563771, 0.9768265 , 0.97958022, 0.03614002],\n",
       "       [0.97418295, 0.96847892, 0.94738858, 0.1195335 ]])"
      ]
     },
     "execution_count": 7,
     "metadata": {},
     "output_type": "execute_result"
    }
   ],
   "source": [
    "X_seq[1]"
   ]
  },
  {
   "cell_type": "code",
   "execution_count": 8,
   "id": "d56d82c8-0eb7-4281-b470-0c77ac66cea9",
   "metadata": {},
   "outputs": [],
   "source": [
    "X_train, X_test, y_train, y_test = train_test_split(X_seq, y_seq, test_size=0.2, random_state=10)"
   ]
  },
  {
   "cell_type": "code",
   "execution_count": 9,
   "id": "1a2922e1-32b0-4e98-96e8-2960c7eae960",
   "metadata": {},
   "outputs": [],
   "source": [
    "n_features = X_train.shape[2]  # Number of predictors\n",
    "n_hidden = 7  # Number of hidden units\n",
    "n_output = 1  # Single output (price)\n",
    "learning_rate = 0.001\n",
    "epochs = 500"
   ]
  },
  {
   "cell_type": "code",
   "execution_count": 10,
   "id": "ae31985e-bc82-4a9e-bd34-570f9e22b1ea",
   "metadata": {},
   "outputs": [],
   "source": [
    "np.random.seed(10)\n",
    "i_weight = np.random.rand(n_features, n_hidden) / 5 - 0.1    \n",
    "h_weight = np.random.rand(n_hidden, n_hidden) / 5 - 0.1      \n",
    "h_bias = np.random.rand(1, n_hidden) / 5 - 0.1               \n",
    "o_weight = np.random.rand(n_hidden, n_output) * 50           \n",
    "o_bias = np.random.rand(1, n_output)                         \n",
    "\n",
    "outputs = np.zeros(len(X_train))\n",
    "hiddens = np.zeros((len(X_train), n_hidden))\n",
    "prev_hidden = None"
   ]
  },
  {
   "cell_type": "code",
   "execution_count": 11,
   "id": "0d12a8d3-5bc1-4de7-accb-11e5e0a9fa1f",
   "metadata": {},
   "outputs": [],
   "source": [
    "def tanh(z):\n",
    "    return np.tanh(z)\n",
    "    \n",
    "def tanh_derivative(z):\n",
    "    return 1 - np.tanh(z) ** 2"
   ]
  },
  {
   "cell_type": "code",
   "execution_count": 12,
   "id": "041d3295-1f52-4cef-aebc-47d37fbcf641",
   "metadata": {},
   "outputs": [
    {
     "name": "stdout",
     "output_type": "stream",
     "text": [
      "Outputs (scaled): [3.06632028 4.76804742 4.83640609 1.64701584 1.17511355 2.4530729\n",
      " 1.7633204  2.6625013  2.05642985 1.32514179 1.78866205 1.72902154\n",
      " 2.89840512 1.15945209 1.68652814 4.85400889 2.67550162 1.86497614\n",
      " 4.53467052 4.58781367 2.75940265 4.70918735 1.42568115 4.34985402\n",
      " 4.69887607 4.24556285 2.58086607 1.75737902 1.72947551 3.11931736\n",
      " 2.90235054 4.05145214 2.23058787 3.28155906 4.70136589 2.87977002\n",
      " 1.55920123 4.88381092 0.91123681 4.46687586 2.31821815 2.89643382\n",
      " 4.70226048 2.55236413 2.01834362 4.58330969 1.75513214 2.9592324\n",
      " 1.77927035 1.62330177 4.45591862 1.90159584 1.50381194 1.86999356\n",
      " 1.45429818 3.16165717 1.76251719 1.72555278 1.77540607 2.95274723\n",
      " 4.85941368 1.75367064 2.82681241 2.44085862 1.10725078 1.75204557\n",
      " 2.0935204  2.23595169 2.34723985 1.4449842  4.82406336 1.98690077\n",
      " 4.46909678 1.7196423  2.86493511 1.84175118 2.6601755  4.6883316\n",
      " 2.80758931 2.28448451 2.36965451 1.7966621  1.92416143 1.88089452\n",
      " 3.12083993 2.37432553 1.28253959 4.73665754 4.57822981 2.22118926\n",
      " 2.88703681 1.90303852 1.45230686 4.96338663 1.4838123  4.73125996\n",
      " 3.33667839 4.5122516  2.06609479 1.2497996  1.66787053 2.80580584\n",
      " 4.95900508 2.41437184 1.83307708 1.88388913 2.1867718  1.55798614\n",
      " 1.53687256 2.31543889 4.74199675 1.66027726 5.20518071 4.97957459\n",
      " 1.4104458  3.13390742 1.9785469  4.77635397 1.97086782 1.86110015\n",
      " 3.39740303 2.58482745 4.35357331 2.47172183 1.43239159 3.04955895\n",
      " 2.91592376 4.82737336 0.58425323 1.59566877 1.81466689 1.34449529\n",
      " 2.41853373 2.4052306  3.26865915 2.49012345 4.39123161 1.4175637\n",
      " 2.9530181  4.85830104 2.40801358 2.88206925 2.46010083 2.92580482\n",
      " 2.87082106 4.32282719 1.69367097 1.57475353 2.15758396 1.76682229\n",
      " 1.21196714 1.65044331 2.90770941 2.95269048 4.92349269 1.76832426\n",
      " 1.70663041 1.5500733  1.70105577 2.14695045 2.60476856 3.321491\n",
      " 1.68048422 3.13838803 3.1063654  2.95831226 1.87476466 2.36428569\n",
      " 4.67073686 2.05669186 4.45771649 4.40368556 3.15168115 4.08883909\n",
      " 4.96303068 4.81032295 2.90292594 1.81026658 3.09474436 0.77224585\n",
      " 1.73450146 3.02784699 2.42497599 1.52028412 4.76153088 1.81327339\n",
      " 2.98093616 1.97417998 1.82312967 1.86528777 3.22894055 1.5976459\n",
      " 2.64526337 2.75391363 3.26115713 1.8456228  1.66432802 2.61527026\n",
      " 2.48287312 4.93033302 1.66225908 2.02297899 2.18218135 4.28012925\n",
      " 4.10296675 4.70526843 4.09717147 4.54347506 1.73562594 2.31189496\n",
      " 2.5263873  2.85412787 2.72500186 2.46386863 3.17504932 1.64242809\n",
      " 2.17796382 4.13613207 4.93620148 2.86883025 1.43888881 1.98402291\n",
      " 4.88339271 2.81556192 1.81906878 1.23867905 2.26081306 4.96714963\n",
      " 4.49884813 2.24579789 2.16225352 1.72521837 4.78249121 4.4688692\n",
      " 1.14438726 2.99309618 3.20453737 4.96537126 1.58669833 2.8448103\n",
      " 1.94056235 2.72465213 4.93353711 2.8457475  4.39306093 2.49738715\n",
      " 1.71138675 2.71719509 1.91200916 2.65756687 4.63250309 2.68495233\n",
      " 2.81939504 4.38655975 2.22298857 1.92607076 2.35896476 2.2579619\n",
      " 1.96310422 2.81227829 2.08294189 1.66457884 4.81678451 1.73784715\n",
      " 4.90532611 1.88383268 1.85444029 1.59920246 3.18079908 2.07348617\n",
      " 2.61481674 1.55752748 4.830894   1.9792806  1.76314264 1.34724419\n",
      " 2.91138907 4.63868658 1.70081734 2.06834415 4.08181152 0.92861369\n",
      " 4.05729732 4.47508084 1.52188501 1.94251218 2.31669409 4.73414622\n",
      " 2.49688211 1.9167041  4.23222664 2.60413554 1.70065101 1.64361213\n",
      " 1.70482045 2.1071706  2.29364821 4.5378087  4.58582764 1.4507274\n",
      " 2.79244443 2.69813697 1.15136725 3.31547367 4.69271416 4.8154153\n",
      " 1.87078957 1.4140909  1.57573847 4.74624235 2.59936691 1.55465053\n",
      " 4.42210127 1.73303873 5.05242153 1.95955598 4.52358779 4.42702246\n",
      " 1.49760631 2.75686961 2.44562808 1.83430976 1.90621132 2.3890862\n",
      " 4.42276328 1.88789746 1.74669652]\n"
     ]
    }
   ],
   "source": [
    "for i in range(len(X_train)):  \n",
    "    sequence = X_train[i]  \n",
    "    \n",
    "    for t in range(seq_length):  \n",
    "        x = sequence[t].reshape(1, n_features)  \n",
    "\n",
    "        # Multiply input by input weight\n",
    "        xi = x @ i_weight\n",
    "\n",
    "        if prev_hidden is not None:\n",
    "            # Add previous hidden state \n",
    "            xh = xi + prev_hidden @ h_weight + h_bias\n",
    "        else:\n",
    "            xh = xi + h_bias\n",
    "\n",
    "        # Apply activation function (tanh)\n",
    "        xh = np.tanh(xh)\n",
    "        prev_hidden = xh\n",
    "\n",
    "    # Store the final hidden state for this sequence\n",
    "    hiddens[i, :] = prev_hidden\n",
    "\n",
    "    # Multiply by the output weight to compute the prediction\n",
    "    xo = prev_hidden @ o_weight + o_bias\n",
    "    outputs[i] = xo.flatten()  # Store the prediction\n",
    "\n",
    "print(\"Outputs (scaled):\", outputs)"
   ]
  },
  {
   "cell_type": "code",
   "execution_count": 13,
   "id": "d579f73a-fd33-462b-bcfa-5397e0058d54",
   "metadata": {},
   "outputs": [
    {
     "data": {
      "text/plain": [
       "3.0663202792784037"
      ]
     },
     "execution_count": 13,
     "metadata": {},
     "output_type": "execute_result"
    }
   ],
   "source": [
    "(outputs[0])"
   ]
  },
  {
   "cell_type": "code",
   "execution_count": 14,
   "id": "8d0a3461-289b-4ac5-98d4-7c2f9e7b9dbc",
   "metadata": {},
   "outputs": [
    {
     "data": {
      "text/plain": [
       "array([ 0.22513637, -0.03467122, -0.00106172,  0.06112834,  0.17433056,\n",
       "       -0.0597146 , -0.11630712])"
      ]
     },
     "execution_count": 14,
     "metadata": {},
     "output_type": "execute_result"
    }
   ],
   "source": [
    "hiddens[1]"
   ]
  },
  {
   "cell_type": "code",
   "execution_count": null,
   "id": "9c1954ea-4889-425e-a97b-8797da972d29",
   "metadata": {},
   "outputs": [],
   "source": []
  }
 ],
 "metadata": {
  "kernelspec": {
   "display_name": "Python 3 (ipykernel)",
   "language": "python",
   "name": "python3"
  },
  "language_info": {
   "codemirror_mode": {
    "name": "ipython",
    "version": 3
   },
   "file_extension": ".py",
   "mimetype": "text/x-python",
   "name": "python",
   "nbconvert_exporter": "python",
   "pygments_lexer": "ipython3",
   "version": "3.10.10"
  }
 },
 "nbformat": 4,
 "nbformat_minor": 5
}
